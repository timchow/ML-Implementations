{
 "cells": [
  {
   "cell_type": "code",
   "execution_count": 44,
   "metadata": {
    "collapsed": true
   },
   "outputs": [],
   "source": [
    "%matplotlib inline"
   ]
  },
  {
   "cell_type": "code",
   "execution_count": 45,
   "metadata": {
    "collapsed": true
   },
   "outputs": [],
   "source": [
    "# Helper functions\n",
    "def FindCentroid(cluster):\n",
    "    try: return (sum([i[0] for i in cluster])/len(cluster),sum([i[1] for i in cluster])/len(cluster))\n",
    "    except: \"\"\n",
    "\n",
    "def MergeClusters(clusters, closest_clusters):\n",
    "    new_cluster = []\n",
    "    \n",
    "    for c in closest_clusters:       \n",
    "        clusters.remove(c)\n",
    "        new_cluster.append(c)\n",
    "        \n",
    "    clusters.append(Flatten(new_cluster))\n",
    "    \n",
    "    return clusters\n",
    "\n",
    "def Flatten(item):\n",
    "    return [y for x in item for y in x]"
   ]
  },
  {
   "cell_type": "code",
   "execution_count": 46,
   "metadata": {},
   "outputs": [
    {
     "data": {
      "image/png": "[encoded data removed]",
      "text/plain": [
       "<matplotlib.figure.Figure at 0x11b2d16b908>"
      ]
     },
     "metadata": {},
     "output_type": "display_data"
    }
   ],
   "source": [
    "# -*- coding: utf-8 -*-\n",
    "\"\"\"\n",
    "Created on Tue Feb 13 12:46:45 2018\n",
    "\n",
    "@author: Tim Chow\n",
    "\"\"\"\n",
    "import matplotlib\n",
    "import matplotlib.pyplot as plt\n",
    "from random import randint\n",
    "from scipy.spatial import distance\n",
    "\n",
    "# Hierarchical Clustering Algorithm (HCA)\n",
    "# Start with n points where all points are clusters of their own\n",
    "\n",
    "NUM_FINAL_CLUSTERS = 4\n",
    "NUM_START_CLUSTERS = 15\n",
    "clusters = [[(randint(1,100),(randint(1,100)))] for p in range(NUM_START_CLUSTERS)]\n",
    "\n",
    "\n",
    "# Merge clusters are that closest to each other\n",
    "# Stop when there is one cluster left\n",
    "current_cluster_idx = 0\n",
    "iterating_cluster_idx = 0\n",
    "closest_clusters = []\n",
    "\n",
    "fig, ax = plt.subplots(figsize=(10,10))\n",
    "ax.set_title(\"Scatterplot before HCA\")\n",
    "ax.set_xlabel('x')\n",
    "ax.set_ylabel('y')\n",
    "plt.scatter([x[0] for x in Flatten(clusters)],[x[1] for x in Flatten(clusters)])\n",
    "plt.axis([0, 100, 0, 100])\n",
    "plt.show()"
   ]
  },
  {
   "cell_type": "code",
   "execution_count": 47,
   "metadata": {},
   "outputs": [
    {
     "data": {
      "image/png": "[encoded data removed]",
      "text/plain": [
       "<matplotlib.figure.Figure at 0x11b2cb45ac8>"
      ]
     },
     "metadata": {},
     "output_type": "display_data"
    }
   ],
   "source": [
    "while(len(clusters) > NUM_FINAL_CLUSTERS):\n",
    "    if len(closest_clusters) == 0:\n",
    "        closest_clusters = [clusters[0],clusters[1]]\n",
    "    \n",
    "    for current_cluster_idx in range(0,len(clusters)):\n",
    "        current_cluster = clusters[current_cluster_idx]\n",
    "        current_cluster_centroid = FindCentroid(current_cluster)\n",
    "        \n",
    "        for iterating_cluster_idx in range(0,len(clusters)):\n",
    "            if (current_cluster_idx == iterating_cluster_idx): continue\n",
    "        \n",
    "            iterating_cluster = clusters[iterating_cluster_idx]\n",
    "            iterating_cluster_centroid = FindCentroid(iterating_cluster)\n",
    "            \n",
    "            closest_distance = distance.euclidean(FindCentroid(closest_clusters[0]), FindCentroid(closest_clusters[1]))\n",
    "            current_distance = distance.euclidean(current_cluster_centroid, iterating_cluster_centroid)\n",
    "            \n",
    "            if (current_distance < closest_distance):\n",
    "                closest_clusters = [current_cluster,iterating_cluster]\n",
    "    \n",
    "    clusters = MergeClusters(clusters, closest_clusters)\n",
    "    closest_clusters = [clusters[0],clusters[1]]\n",
    "\n",
    "#scatter plot for as many clusters there are left\n",
    "fig, ax = plt.subplots(figsize=(10,10))\n",
    "ax.set_title(\"Scatterplot after HCA with #clusters={}\".format(NUM_FINAL_CLUSTERS))\n",
    "ax.set_xlabel('x')\n",
    "ax.set_ylabel('y')\n",
    "\n",
    "for i in range(0,len(clusters)):\n",
    "    plt.scatter([x[0] for x in (clusters)[i]],[x[1] for x in (clusters)[i]])\n",
    "\n",
    "plt.show()"
   ]
  }
 ],
 "metadata": {
  "kernelspec": {
   "display_name": "Python 3",
   "language": "python",
   "name": "python3"
  },
  "language_info": {
   "codemirror_mode": {
    "name": "ipython",
    "version": 3
   },
   "file_extension": ".py",
   "mimetype": "text/x-python",
   "name": "python",
   "nbconvert_exporter": "python",
   "pygments_lexer": "ipython3",
   "version": "3.6.3"
  }
 },
 "nbformat": 4,
 "nbformat_minor": 2
}
